{
 "cells": [
  {
   "cell_type": "markdown",
   "id": "90dbec4f",
   "metadata": {},
   "source": [
    "# **Домашнее задание 1**"
   ]
  },
  {
   "cell_type": "markdown",
   "id": "fe698fdb",
   "metadata": {},
   "source": [
    "## **Задача 1**"
   ]
  },
  {
   "cell_type": "markdown",
   "id": "2d478ba6",
   "metadata": {},
   "source": [
    "Оформляйте ноутбук, используя эти советы:\n",
    "+ Номер задачи - заголовок 2\n",
    "+ Номер подзадачи - заголовок 3\n",
    "+ Предоставленные наборы данных оформляйте, как код"
   ]
  },
  {
   "cell_type": "markdown",
   "id": "8b064edf",
   "metadata": {},
   "source": [
    "## **Задача 2**"
   ]
  },
  {
   "cell_type": "markdown",
   "id": "87b58506",
   "metadata": {},
   "source": [
    "На складе лежат разные фрукты в разном количестве. Нужно написать функцию, которая на вход принимает любое количество названий фруктов и их количество, а возвращает общее количество фруктов на складе, при помощи использования kwargs"
   ]
  },
  {
   "cell_type": "code",
   "execution_count": 1,
   "id": "f2ac6f3e",
   "metadata": {},
   "outputs": [
    {
     "name": "stdout",
     "output_type": "stream",
     "text": [
      "Total number fruits: 70\n"
     ]
    }
   ],
   "source": [
    "def fruits(**kwargs):\n",
    "    total_number_fruits = sum(kwargs.values())\n",
    "    return f'Total number fruits: {total_number_fruits}'\n",
    "print(fruits(kiwi = 15, apricots = 30, plums = 25))"
   ]
  },
  {
   "cell_type": "markdown",
   "id": "e84ee00d",
   "metadata": {},
   "source": [
    "## **Задача 3** "
   ]
  },
  {
   "cell_type": "markdown",
   "id": "15c5e8a6",
   "metadata": {},
   "source": [
    "Дан список с затратами на рекламу. Но в данных есть ошибки, некоторые затраты имеют отрицательную величину. Удалите такие значения из списка и посчитайте суммарные затраты\n",
    "\n",
    "[100, 125, -90, 345, 655, -1, 0, 200]\n",
    "\n",
    "Используйте list comprehensions"
   ]
  },
  {
   "cell_type": "code",
   "execution_count": 2,
   "id": "e4e6969b",
   "metadata": {},
   "outputs": [],
   "source": [
    "data = [100, 125, -90, 345, 655, -1, 0, 200]"
   ]
  },
  {
   "cell_type": "code",
   "execution_count": 3,
   "id": "3822037f",
   "metadata": {},
   "outputs": [
    {
     "name": "stdout",
     "output_type": "stream",
     "text": [
      "[100, 125, 345, 655, 200]\n",
      "Total expenses: 1425\n"
     ]
    }
   ],
   "source": [
    "def expenses(data: list):\n",
    "    new_data = []\n",
    "    \n",
    "    for i in data:\n",
    "        if i > 0:\n",
    "            new_data.append(i)\n",
    "            \n",
    "    print(new_data)\n",
    "    print(f'Total expenses: {sum(new_data)}')\n",
    "    \n",
    "expenses(data)"
   ]
  },
  {
   "cell_type": "code",
   "execution_count": 4,
   "id": "be9c2bab",
   "metadata": {},
   "outputs": [
    {
     "name": "stdout",
     "output_type": "stream",
     "text": [
      "[100, 125, 345, 655, 200]\n",
      "Total costs: 1425\n"
     ]
    }
   ],
   "source": [
    "print([i for i in data if i > 0 ])\n",
    "print(f'Total costs: {sum([i for i in data if i > 0 ])}')"
   ]
  },
  {
   "cell_type": "markdown",
   "id": "ace15f43",
   "metadata": {},
   "source": [
    "## **Задача 4**"
   ]
  },
  {
   "cell_type": "markdown",
   "id": "9036c65e",
   "metadata": {},
   "source": [
    "Даны два списка.\n",
    "+ Дата покупки\n",
    "['2021-09-14', '2021-12-15', '2021-09-08', '2021-12-05', '2021-10-09', '2021-09-30', '2021-12-22', '2021-11-29', '2021-12-24', '2021-11-26', '2021-10-27', '2021-12-18', '2021-11-09', '2021-11-23', '2021-09-27', '2021-10-02', '2021-12-27', '2021-09-20', '2021-12-13', '2021-11-01', '2021-11-09', '2021-12-06', '2021-12-08', '2021-10-09', '2021-10-31', '2021-09-30', '2021-11-09', '2021-12-13', '2021-10-26', '2021-12-09']\n",
    "+ Суммы покупок по датам\n",
    "[1270, 8413, 9028, 3703, 5739, 4095, 295, 4944, 5723, 3701, 4471, 651, 7037, 4274, 6275, 4988, 6930, 2971, 6592, 2004, 2822, 519, 3406, 2732, 5015, 2008, 316, 6333, 5700, 2887]"
   ]
  },
  {
   "cell_type": "markdown",
   "id": "7df8c885",
   "metadata": {},
   "source": [
    "### **Задача 4.1**"
   ]
  },
  {
   "cell_type": "markdown",
   "id": "11cef263",
   "metadata": {},
   "source": [
    "Найдите, какая выручка у компании в ноябре\n",
    "Используйте list comprehensions"
   ]
  },
  {
   "cell_type": "code",
   "execution_count": 5,
   "id": "aebce294",
   "metadata": {},
   "outputs": [],
   "source": [
    "date = ['2021-09-14', '2021-12-15', '2021-09-08', '2021-12-05', '2021-10-09', \n",
    "        '2021-09-30', '2021-12-22', '2021-11-29', '2021-12-24', '2021-11-26', \n",
    "        '2021-10-27', '2021-12-18', '2021-11-09', '2021-11-23', '2021-09-27', \n",
    "        '2021-10-02', '2021-12-27', '2021-09-20', '2021-12-13', '2021-11-01', \n",
    "        '2021-11-09', '2021-12-06', '2021-12-08', '2021-10-09', '2021-10-31', \n",
    "        '2021-09-30', '2021-11-09', '2021-12-13', '2021-10-26', '2021-12-09']\n",
    "cost = [1270, 8413, 9028, 3703, 5739, 4095, 295, 4944, 5723, 3701, \n",
    "        4471, 651, 7037, 4274, 6275, 4988, 6930, 2971, 6592, 2004, \n",
    "        2822, 519, 3406, 2732, 5015, 2008, 316, 6333, 5700, 2887]"
   ]
  },
  {
   "cell_type": "code",
   "execution_count": 6,
   "id": "b8bd54a5",
   "metadata": {},
   "outputs": [
    {
     "name": "stdout",
     "output_type": "stream",
     "text": [
      "[4944, 3701, 7037, 4274, 2004, 2822, 316]\n",
      "Profit: 25098\n"
     ]
    }
   ],
   "source": [
    "def november(data1: list, data2: list) -> list:\n",
    "    new_data = []\n",
    "    \n",
    "    for i in range(len(data1)-1):\n",
    "        if '-11-' in data1[i]:\n",
    "            new_data.append(data2[i])        \n",
    "    return new_data\n",
    "\n",
    "print(november(date, cost))\n",
    "print(f'Profit: {sum(november(date, cost))}')"
   ]
  },
  {
   "cell_type": "code",
   "execution_count": 7,
   "id": "3fe01ae8",
   "metadata": {},
   "outputs": [
    {
     "name": "stdout",
     "output_type": "stream",
     "text": [
      "[4944, 3701, 7037, 4274, 2004, 2822, 316]\n",
      "Profit: 25098\n"
     ]
    }
   ],
   "source": [
    "print([cost[i] for i in range(0, len(date)-1) if \"-11\" in date[i]])\n",
    "print(f'Profit: {sum([cost[i] for i in range(len(date)-1) if \"-11\" in date[i]])}')"
   ]
  },
  {
   "cell_type": "markdown",
   "id": "d268eb9f",
   "metadata": {},
   "source": [
    "### **Задача 4.2**"
   ]
  },
  {
   "cell_type": "markdown",
   "id": "87fb16e1",
   "metadata": {},
   "source": [
    "Найдите выручку компании в зависимости от месяца\n",
    "Для этого напишите функцию, которая на вход принимает список с датами и список с выручкой, а на выходе словарь, где ключи - это месяцы, а значения - это выручка.\n",
    "Используйте аннотирование типов."
   ]
  },
  {
   "cell_type": "code",
   "execution_count": 8,
   "id": "2e5595f2",
   "metadata": {},
   "outputs": [
    {
     "name": "stdout",
     "output_type": "stream",
     "text": [
      "{'09': 25647, '12': 45452, '10': 28645, '11': 25098}\n"
     ]
    }
   ],
   "source": [
    "def profits(data1: list, data2: list) -> dict:\n",
    "    \n",
    "    profits = {}\n",
    "    \n",
    "    for i in range(len(data1)):\n",
    "        \n",
    "        if date[i].split('-')[1] in profits.keys():\n",
    "            profits[date[i].split('-')[1]] += cost[i]\n",
    "        else:\n",
    "            profits[date[i].split('-')[1]] = cost[i]\n",
    "            \n",
    "    return profits\n",
    "\n",
    "print(profits(date, cost))"
   ]
  },
  {
   "cell_type": "code",
   "execution_count": null,
   "id": "8ee9d381",
   "metadata": {},
   "outputs": [],
   "source": []
  }
 ],
 "metadata": {
  "kernelspec": {
   "display_name": "Python 3 (ipykernel)",
   "language": "python",
   "name": "python3"
  },
  "language_info": {
   "codemirror_mode": {
    "name": "ipython",
    "version": 3
   },
   "file_extension": ".py",
   "mimetype": "text/x-python",
   "name": "python",
   "nbconvert_exporter": "python",
   "pygments_lexer": "ipython3",
   "version": "3.9.13"
  }
 },
 "nbformat": 4,
 "nbformat_minor": 5
}
